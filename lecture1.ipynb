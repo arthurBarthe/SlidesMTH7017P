{
 "cells": [
  {
   "cell_type": "markdown",
   "id": "30b25b16-c406-470a-becf-60548ba65f41",
   "metadata": {
    "editable": true,
    "slideshow": {
     "slide_type": "slide"
    },
    "tags": []
   },
   "source": [
    "# Introduction to Sustainability & Climate Risk Analytics"
   ]
  },
  {
   "cell_type": "markdown",
   "id": "a4fa646d-4fe8-479f-bdc6-93f33f9c6c43",
   "metadata": {
    "editable": true,
    "slideshow": {
     "slide_type": "slide"
    },
    "tags": []
   },
   "source": [
    "## Climate Risk"
   ]
  },
  {
   "cell_type": "markdown",
   "id": "7b59f49a-fa66-47f2-968b-f230795db9c2",
   "metadata": {
    "editable": true,
    "slideshow": {
     "slide_type": "slide"
    },
    "tags": []
   },
   "source": [
    "Climate Risk Analysis is quickly developing as there is an urge to better:\n",
    "1. Predict risk due to climate events. For instance, insurance companies may want to better understand the financial risk due to tropical cyclones, floods, etc. The risk might be defined in the long term or in the short term as a particular event is taking place.\n",
    "2. Mitigate the risk. Counter-measures are often available to mitigate the risk posed by certain types of events. Those measures usually come at a heavy financial cost, but on the other hand, this cost may be balanced out in the future if they efficiently reduce the impact of natural disasters.\n",
    "3. Understand the impact of Climate Change on Climate Risk. Climate Change results in an increasing frequency and intensity of natural disasters. "
   ]
  },
  {
   "cell_type": "markdown",
   "id": "77c6a71d-ad59-4296-8abd-e75517aa39df",
   "metadata": {
    "editable": true,
    "slideshow": {
     "slide_type": "slide"
    },
    "tags": []
   },
   "source": [
    "Climate Risk Analysis is concerned with understanding the impact of extreme climate events, or natural disasters. Do you have examples of recent such natural disasters?"
   ]
  },
  {
   "cell_type": "markdown",
   "id": "d69be336-33c2-4db5-958b-bc34b0f66779",
   "metadata": {
    "editable": true,
    "slideshow": {
     "slide_type": "fragment"
    },
    "tags": []
   },
   "source": [
    "1. Tropical Cyclone in Mayotte, France\n",
    "2. Fires in Los Angeles, USA\n",
    "3. Floods in Cataluna, Spain."
   ]
  },
  {
   "cell_type": "markdown",
   "id": "f1b042bd-bd81-40e9-9c97-0fc3836dfd14",
   "metadata": {
    "editable": true,
    "slideshow": {
     "slide_type": ""
    },
    "tags": []
   },
   "source": [
    "<img src=\"https://ichef.bbci.co.uk/ace/standard/800/cpsprodpb/3036/live/ebfe1640-bad6-11ef-9272-bdd1f3551406.jpg.webp\" style=\"width: 30%; display: inline-block; margin: 5px;\" />\n",
    "<img src=\"https://i.guim.co.uk/img/media/3c0d3ce27f07a7a5718951aa03f142636639e1fc/0_347_6792_4077/master/6792.jpg?width=1900&dpr=1&s=none&crop=none\" style=\"width: 30%; display: inline-block; margin: 5px;\" />\n",
    "<img src=\"https://ogden_images.s3.amazonaws.com/www.mariettatimes.com/images/2024/11/04144125/AP-Spain-Floods-1-1100x734.jpg\" style=\"width: 30%; display: inline-block; margin: 5px;\" />"
   ]
  },
  {
   "cell_type": "markdown",
   "id": "9f7d9487-68db-4822-9bb0-49db9423a089",
   "metadata": {
    "editable": true,
    "slideshow": {
     "slide_type": "slide"
    },
    "tags": []
   },
   "source": [
    "More generally, can you think of different types of natural disasters?"
   ]
  },
  {
   "cell_type": "markdown",
   "id": "10d9ca3a-f9a8-4c22-be87-e91192cc366d",
   "metadata": {
    "editable": true,
    "slideshow": {
     "slide_type": "fragment"
    },
    "tags": []
   },
   "source": [
    "Tropical Cyclones&nbsp;&nbsp;&nbsp;&nbsp;&nbsp;&nbsp;&nbsp;&nbsp;\n",
    "Floods&nbsp;&nbsp;&nbsp;&nbsp;&nbsp;&nbsp;&nbsp;&nbsp;\n",
    "Forest Fires\n",
    "\n",
    "Coastal floods&nbsp;&nbsp;&nbsp;&nbsp;&nbsp;&nbsp;&nbsp;&nbsp;\n",
    "Earthquake&nbsp;&nbsp;&nbsp;&nbsp;&nbsp;&nbsp;&nbsp;&nbsp;\n",
    "Volcanic eruption\n",
    "\n",
    "Heatwave&nbsp;&nbsp;&nbsp;&nbsp;&nbsp;&nbsp;&nbsp;&nbsp;\n",
    "Winterstorm&nbsp;&nbsp;&nbsp;&nbsp;&nbsp;&nbsp;&nbsp;&nbsp;\n",
    "drought"
   ]
  },
  {
   "cell_type": "markdown",
   "id": "5e66b16b-267c-4127-9817-ffdf086f163a",
   "metadata": {
    "editable": true,
    "slideshow": {
     "slide_type": "subslide"
    },
    "tags": []
   },
   "source": [
    "Additionally, the occurence of natural disasters may occur in non-independent ways. This has been referred to as *compound events*. Among the natural disasters we mentionned, can you think of combinations of them that are likely to occur together?\n",
    "\n",
    "Zscheischler, J. et al. (2018) ‘Future climate risk from compound events’, Nature Climate Change, 8(6), pp. 469–477. Available at: https://doi.org/10.1038/s41558-018-0156-3.\n"
   ]
  },
  {
   "cell_type": "markdown",
   "id": "0ea625b2-c0f2-4a39-9811-256b550bb99b",
   "metadata": {
    "editable": true,
    "slideshow": {
     "slide_type": "slide"
    },
    "tags": []
   },
   "source": [
    "The impact of such events can take multiple forms, e.g. \n",
    "1. Loss of life\n",
    "2. Financial loss\n",
    "3. Ecological loss"
   ]
  },
  {
   "cell_type": "markdown",
   "id": "46bd041e-5802-4ee9-ac43-8f5149104c3e",
   "metadata": {
    "editable": true,
    "slideshow": {
     "slide_type": "slide"
    },
    "tags": []
   },
   "source": [
    "## What you will learn in this module"
   ]
  },
  {
   "cell_type": "markdown",
   "id": "2b6c5ae2-c60a-45c7-a051-ba6baba95ed3",
   "metadata": {
    "editable": true,
    "slideshow": {
     "slide_type": "fragment"
    },
    "tags": []
   },
   "source": [
    "1. Define a framework for a Climate Risk Analysis\n",
    "2. Leverage diverse sources of data to feed your analysis\n",
    "3. Model extreme events using historical data\n",
    "4. Interpret the analysis outputs\n",
    "5. Understand the sources of uncertainty"
   ]
  },
  {
   "cell_type": "markdown",
   "id": "be302b25-b349-41ea-8b5f-587c4b25d213",
   "metadata": {
    "editable": true,
    "slideshow": {
     "slide_type": "slide"
    },
    "tags": []
   },
   "source": [
    "## What tools you will learn to use"
   ]
  },
  {
   "cell_type": "markdown",
   "id": "b0ce456e-65f8-4828-8c18-0020c016fb22",
   "metadata": {
    "editable": true,
    "slideshow": {
     "slide_type": "fragment"
    },
    "tags": []
   },
   "source": [
    "1. CLIMADA: to quickly get you started, we will start with a Python Package for Climate Risk Analysis called CLIMADA.\n",
    "2. Python packages for climate data: in the second part of this course, you will learn to use some Python libraries to leverage a wide variety of data sources"
   ]
  },
  {
   "cell_type": "markdown",
   "id": "321a502c-a024-49ca-8ca5-e0ee79476e3d",
   "metadata": {
    "editable": true,
    "slideshow": {
     "slide_type": "fragment"
    },
    "tags": []
   },
   "source": [
    "## How you will be assessed"
   ]
  },
  {
   "cell_type": "markdown",
   "id": "fc79799b-1cdb-4078-af0f-c02801041864",
   "metadata": {
    "editable": true,
    "slideshow": {
     "slide_type": "fragment"
    },
    "tags": []
   },
   "source": [
    "1. Coursework (20%): project with presentation (Week 12)\n",
    "2. Final exam (80%): on computers"
   ]
  },
  {
   "cell_type": "markdown",
   "id": "08ba91e7-a4fb-4619-a7a7-f9fdd57f89cd",
   "metadata": {
    "editable": true,
    "slideshow": {
     "slide_type": "notes"
    },
    "tags": []
   },
   "source": [
    "30 MIN MARK"
   ]
  },
  {
   "cell_type": "markdown",
   "id": "0bc19276-00ed-4757-b9de-2deef9e708cf",
   "metadata": {
    "editable": true,
    "slideshow": {
     "slide_type": "slide"
    },
    "tags": []
   },
   "source": [
    "# Definition of Climate Risk"
   ]
  },
  {
   "cell_type": "markdown",
   "id": "97435a23-2e1d-46b6-bc82-1645eab39e57",
   "metadata": {
    "editable": true,
    "slideshow": {
     "slide_type": ""
    },
    "tags": []
   },
   "source": [
    "Before we dive into the details of Climate Risk Analysis, we need to define clearly what we mean by a Climate Risk. "
   ]
  },
  {
   "cell_type": "markdown",
   "id": "f796152d-ab97-4821-bd18-592783e3b0cc",
   "metadata": {
    "editable": true,
    "slideshow": {
     "slide_type": "slide"
    },
    "tags": []
   },
   "source": [
    "The IPCC (Intergovernmental Panel on Climate Change) defines Climate Risk in terms of 3 components:\n",
    "\n",
    "1. *Hazard Intensity*: this corresponds to the intensity of a natural disaster.\n",
    "2. *Exposure*: this corresponds to the value at risk. Here value can be interpreted broadly.\n",
    "3. *Vulnerability / Impact function*: this defines the vulnerability of the exposures in terms of the intensity"
   ]
  },
  {
   "cell_type": "markdown",
   "id": "6ca16a95-463e-450d-803e-1521629bc47f",
   "metadata": {
    "editable": true,
    "slideshow": {
     "slide_type": "slide"
    },
    "tags": []
   },
   "source": [
    "How would you express intensity for the different types of natural disasters we mentioned earlier?\n",
    "\n",
    "1. Tropical Cyclones: \n",
    "3. Floods: \n",
    "4. Forest Fires: \n",
    "5. Tsunamis: "
   ]
  },
  {
   "cell_type": "markdown",
   "id": "86609c5f-4481-496b-ad5d-f25426cf3a2d",
   "metadata": {
    "editable": true,
    "slideshow": {
     "slide_type": "subslide"
    },
    "tags": []
   },
   "source": [
    "How would you express intensity for the different types of natural disasters we mentioned earlier?\n",
    "\n",
    "1. Tropical Cyclones: maximum wind speed (m/s)\n",
    "3. Floods: maximum water level (m)\n",
    "4. Forest Fires: binary variable?\n",
    "5. Tsunamis: water level"
   ]
  },
  {
   "cell_type": "markdown",
   "id": "c0ba55f7-549b-43e5-92f3-10e39a4f1d21",
   "metadata": {
    "editable": true,
    "slideshow": {
     "slide_type": "slide"
    },
    "tags": []
   },
   "source": [
    "The vulnerability expresses a relationship between a hazard’s intensity and your exposure in terms of a percentage loss. More precisely, it is typically decomposed into two terms:\n",
    "1. Mean Degree of Damage (MDD): this is the average loss for any affected asset\n",
    "2. Proportion of Assets Affected (PAA): as per its name, this is the fraction of exposed assets that are affected "
   ]
  },
  {
   "cell_type": "markdown",
   "id": "61fb1d8a-0088-4ed2-a667-d9973006bb74",
   "metadata": {
    "editable": true,
    "slideshow": {
     "slide_type": "slide"
    },
    "tags": []
   },
   "source": [
    "The severity, or impact, can then be expressed in terms of the three components of Climate Risk Analysis via:\n",
    "\n",
    "\\begin{equation}\n",
    "    \\text{Severity} = \\sum_{\\text{location s}}  \n",
    "     \\text{Exposure}(s) \n",
    "    \\times \\text{Vulnerability}(\\text{Intensity}(s)),\n",
    "\\end{equation}\n",
    "where we see that we aggregate over space.\n",
    "\n",
    "Note that the above is not a \"fit-all\" formula as we might want to account for more complex scenarios (e.g., the vulnerability in the case of a heatwave will depend on the age of the population). However, it is a good starting point."
   ]
  },
  {
   "cell_type": "markdown",
   "id": "c6057483-674b-41f6-adce-afc64c6e01f1",
   "metadata": {
    "editable": true,
    "slideshow": {
     "slide_type": "slide"
    },
    "tags": []
   },
   "source": [
    "We also note that the formula we gave above is for a particular event. Instead, we want to leverage a probabilistic approach, so that we obtain a distribution of potential risks. This can be summarized as,\n",
    "\n",
    "\\begin{equation}\n",
    "    \\text{risk} = {probability} \\times {severity},\n",
    "\\end{equation}\n",
    "but in reality we will see that the details of the probabilistic approach are a bit more subtle than the formula given here."
   ]
  },
  {
   "cell_type": "markdown",
   "id": "42a86b0a-ac7e-4390-ac1f-f7c02fbf0bd4",
   "metadata": {
    "editable": true,
    "slideshow": {
     "slide_type": "slide"
    },
    "tags": []
   },
   "source": [
    "## Role of Climate Change"
   ]
  },
  {
   "cell_type": "markdown",
   "id": "637bf05a-4d7b-4773-bf49-b3bb4d03cfe8",
   "metadata": {
    "editable": true,
    "slideshow": {
     "slide_type": "slide"
    },
    "tags": []
   },
   "source": [
    "### Weather and Climate"
   ]
  },
  {
   "cell_type": "markdown",
   "id": "7839f53e-f5b6-4b7f-b24d-a7f5d6d30ce4",
   "metadata": {
    "editable": true,
    "slideshow": {
     "slide_type": "fragment"
    },
    "tags": []
   },
   "source": [
    "In the scientific litterature, weather and climate refer to distinct concepts. Specifically, climate refers to long-term patterns, while weather refers to short-term patterns. How would you classify the following statements in terms of weather vs climate?\n",
    "\n",
    "1. It is sunny today\n",
    "2. It will rain next week\n",
    "3. Over the last ten years, the average precipitation level in London over the month of February was 250mm.\n",
    "4. This year, the summer in Paris has been awful compared to last year!\n",
    "5. There is an increasing trend in global temperatures over the last few decades"
   ]
  },
  {
   "cell_type": "markdown",
   "id": "915fb232-ff29-4313-aa5a-24f80fa1f558",
   "metadata": {
    "editable": true,
    "slideshow": {
     "slide_type": "slide"
    },
    "tags": []
   },
   "source": [
    "### Climate Change"
   ]
  },
  {
   "cell_type": "markdown",
   "id": "1146110b-036d-4065-b1e1-4b182612fee5",
   "metadata": {
    "editable": true,
    "slideshow": {
     "slide_type": "fragment"
    },
    "tags": []
   },
   "source": [
    "Climate Change refers to changes in the climate observed over the last few decades, most of which can be attributed to human activities. Global warming is one component of climate change among many others. Another key component of climate change is the fact that natural disasters increase in frequency and intensity. "
   ]
  },
  {
   "cell_type": "markdown",
   "id": "158061bc-19ea-408b-8dbd-e245c8c8f88f",
   "metadata": {
    "editable": true,
    "slideshow": {
     "slide_type": "slide"
    },
    "tags": []
   },
   "source": [
    "How do scientists study climate change?\n",
    "1. Historical data: statistical analysis of historical data with the intent to identify potential trends from natural variability\n",
    "2. Climate Model simulations: Climate Models are complex Physics models that aim at reproducing the many components of the climate (oceans and atmosphere, clouds, precipitation, evaporation etc). Climate simulations are run over time scales of up to one century. Specifically, rather than producing a single simulation, a climate model is used to produce an ensemble of simulations over which averages are computed to study changes. Such averages are called ensemble averages."
   ]
  },
  {
   "cell_type": "markdown",
   "id": "4953888f-ef78-422c-ba81-c2f5828103c4",
   "metadata": {
    "editable": true,
    "slideshow": {
     "slide_type": "slide"
    },
    "tags": []
   },
   "source": [
    "## A Toy example in Python"
   ]
  },
  {
   "cell_type": "markdown",
   "id": "5695d969-cdc8-4e1f-83d8-a756d43e9150",
   "metadata": {
    "editable": true,
    "slideshow": {
     "slide_type": "fragment"
    },
    "tags": []
   },
   "source": [
    "To help you understand the general framework of Climate Risk Analysis, we shall start with a very simplistic toy example in Python."
   ]
  },
  {
   "cell_type": "markdown",
   "id": "c938bd1c-882e-4152-9cc1-c6f0e6b74713",
   "metadata": {
    "editable": true,
    "slideshow": {
     "slide_type": "slide"
    },
    "tags": []
   },
   "source": [
    "### Defining our intensities"
   ]
  },
  {
   "cell_type": "markdown",
   "id": "3baf076e-8515-449e-b026-aa98ce1f0c53",
   "metadata": {
    "editable": true,
    "slideshow": {
     "slide_type": ""
    },
    "tags": []
   },
   "source": [
    "We first define the intensities. In a real case study, we would leverage historical data. For the purpose of this example we instead use an arbitrary stochastic model."
   ]
  },
  {
   "cell_type": "code",
   "execution_count": 1,
   "id": "b4ee6a08-e231-4fc2-a829-81f861104fc8",
   "metadata": {
    "editable": true,
    "slideshow": {
     "slide_type": "slide"
    },
    "tags": []
   },
   "outputs": [
    {
     "data": {
      "image/png": "[encoded data removed]",
      "text/plain": [
       "<Figure size 640x480 with 2 Axes>"
      ]
     },
     "metadata": {},
     "output_type": "display_data"
    }
   ],
   "source": [
    "%matplotlib inline\n",
    "\n",
    "import numpy as np\n",
    "import matplotlib.pyplot as plt\n",
    "from scipy.stats import multivariate_normal, norm\n",
    "\n",
    "mu = 50\n",
    "\n",
    "def sq_exp_cov(tau, sigma=10, rho=10):\n",
    "    return sigma** 2 * np.exp(- np.sum(tau ** 2, 0) / rho) + 1e-6 * np.all(tau == 0, 0)\n",
    "\n",
    "grid = np.mgrid[:32, :32]\n",
    "flat_grid = np.reshape(grid, (2, -1, 1))\n",
    "taus = flat_grid - np.transpose(flat_grid, (0, 2, 1))\n",
    "\n",
    "cov_mat = sq_exp_cov(taus)\n",
    "dist = multivariate_normal(np.ones(32 ** 2) * mu, cov_mat)\n",
    "\n",
    "intensity = dist.rvs().reshape(32, 32)\n",
    "\n",
    "plt.figure()\n",
    "plt.imshow(intensity, cmap='Spectral_r', origin='lower')\n",
    "plt.colorbar(label='$m/s$')\n",
    "\n",
    "plt.title('Simulated intensity of a single Tropical Cyclone');"
   ]
  },
  {
   "cell_type": "markdown",
   "id": "3c6d175a-52e9-4c3d-aec4-bb9a3f283cad",
   "metadata": {
    "editable": true,
    "slideshow": {
     "slide_type": "slide"
    },
    "tags": []
   },
   "source": [
    "### Defining our exposures"
   ]
  },
  {
   "cell_type": "markdown",
   "id": "ac15d26b-b420-459b-b3f0-ee4483a88fa7",
   "metadata": {
    "editable": true,
    "slideshow": {
     "slide_type": "fragment"
    },
    "tags": []
   },
   "source": [
    "We will generate fake exposure data again. For instance, we would sample from a Bernoulli distribution at each location to determine the presence or absence of an asset (e.g. a building)"
   ]
  },
  {
   "cell_type": "code",
   "execution_count": 2,
   "id": "f1ad7181-a557-4e7d-9351-d58c35f31b2c",
   "metadata": {
    "editable": true,
    "slideshow": {
     "slide_type": "slide"
    },
    "tags": []
   },
   "outputs": [
    {
     "data": {
      "image/png": "[encoded data removed]",
      "text/plain": [
       "<Figure size 640x480 with 1 Axes>"
      ]
     },
     "metadata": {},
     "output_type": "display_data"
    }
   ],
   "source": [
    "import matplotlib.pyplot as plt\n",
    "\n",
    "from scipy.stats import bernoulli\n",
    "\n",
    "exposure_mask = bernoulli(0.1).rvs(size=(32,32))\n",
    "exposure_mask = np.where(exposure_mask, 1, np.nan)\n",
    "\n",
    "plt.figure()\n",
    "plt.imshow(exposure_mask, origin='lower');"
   ]
  },
  {
   "cell_type": "markdown",
   "id": "ffdf8ae8-e868-48bd-9254-634e7be505b5",
   "metadata": {
    "editable": true,
    "slideshow": {
     "slide_type": "slide"
    },
    "tags": []
   },
   "source": [
    "We also need values for these assets (e.g. in dollars). We will simulate those according to an exponential distribution."
   ]
  },
  {
   "cell_type": "code",
   "execution_count": 3,
   "id": "f93a9448-61ba-45b2-9e7a-d589d5f52594",
   "metadata": {
    "editable": true,
    "slideshow": {
     "slide_type": "fragment"
    },
    "tags": []
   },
   "outputs": [
    {
     "data": {
      "image/png": "[encoded data removed]",
      "text/plain": [
       "<Figure size 640x480 with 2 Axes>"
      ]
     },
     "metadata": {},
     "output_type": "display_data"
    }
   ],
   "source": [
    "from scipy.stats import expon\n",
    "\n",
    "lambd = 2\n",
    "exposure_value = expon(1 / lambd).rvs(size=(32, 32))\n",
    "\n",
    "plt.figure()\n",
    "plt.imshow(exposure_mask * exposure_value, origin='lower')\n",
    "plt.colorbar(label='Value (1e6\\$)');"
   ]
  },
  {
   "cell_type": "markdown",
   "id": "2616f3e3-5c54-4e19-821d-849b80d7f7a5",
   "metadata": {
    "editable": true,
    "slideshow": {
     "slide_type": "slide"
    },
    "tags": []
   },
   "source": [
    "### Defining our impact function"
   ]
  },
  {
   "cell_type": "markdown",
   "id": "856dee05-014f-48e6-a37f-56fea0b700a8",
   "metadata": {
    "editable": true,
    "slideshow": {
     "slide_type": "fragment"
    },
    "tags": []
   },
   "source": [
    "The impact function takes the intensity as an argument, and returns a real number bewteen 0 and 1, corresponding to a percentage. Here, we arbitrarily define the impact function as,\n",
    "\n",
    "\\begin{equation}\n",
    "    f_{\\text{impact}}(x) = \\min(1, (x / 80)^4)\n",
    "\\end{equation}"
   ]
  },
  {
   "cell_type": "code",
   "execution_count": 4,
   "id": "41fd2fbe-9473-490a-84b8-dcee47022128",
   "metadata": {
    "editable": true,
    "slideshow": {
     "slide_type": "fragment"
    },
    "tags": []
   },
   "outputs": [
    {
     "data": {
      "image/png": "[encoded data removed]",
      "text/plain": [
       "<Figure size 640x480 with 1 Axes>"
      ]
     },
     "metadata": {},
     "output_type": "display_data"
    }
   ],
   "source": [
    "import matplotlib.pyplot as plt\n",
    "\n",
    "def impact_function(intensity, max_intensity=80):\n",
    "    def func(x):\n",
    "        return (x / max_intensity) ** 4\n",
    "    return np.minimum(1, func(intensity))\n",
    "\n",
    "plt.figure()\n",
    "plt.plot(np.arange(100), impact_function(np.arange(100)))\n",
    "plt.xlabel('intensity ($m/s$)')\n",
    "plt.ylabel('MDD');"
   ]
  },
  {
   "cell_type": "markdown",
   "id": "5e146a1a-af05-45fa-a516-ce495aa24311",
   "metadata": {
    "editable": true,
    "slideshow": {
     "slide_type": ""
    },
    "tags": []
   },
   "source": [
    "### Impact calculation"
   ]
  },
  {
   "cell_type": "markdown",
   "id": "e878ad78-ff3e-41b0-8c36-701ad5495504",
   "metadata": {
    "editable": true,
    "slideshow": {
     "slide_type": ""
    },
    "tags": []
   },
   "source": [
    "We can now evaluate the severity of our simulated event in terms of the three components (intensity, exposure and impact function) which we defined. Specifically, we can write the impact as,\n",
    "\n",
    "\\begin{equation}\n",
    "    \\text{severity} = \\sum_{\\text{location } j} {\\text{exposure}(j) \\times f_\\text{impact}(\\text{intensity}(j))}\n",
    "\\end{equation}"
   ]
  },
  {
   "cell_type": "code",
   "execution_count": 5,
   "id": "1b4b5819-679b-4906-87ef-8c31108775db",
   "metadata": {
    "editable": true,
    "slideshow": {
     "slide_type": ""
    },
    "tags": []
   },
   "outputs": [
    {
     "data": {
      "text/plain": [
       "np.float64(27.746868631248994)"
      ]
     },
     "execution_count": 5,
     "metadata": {},
     "output_type": "execute_result"
    }
   ],
   "source": [
    "def calculate_impact(intensity, exposure, impact_function):\n",
    "    return np.nansum(exposure * impact_function(intensity))\n",
    "\n",
    "exposure = exposure_mask * exposure_value\n",
    "\n",
    "calculate_impact(intensity, exposure, impact_function)"
   ]
  },
  {
   "cell_type": "markdown",
   "id": "ef27a77a-a844-476b-bb86-60107a3c195a",
   "metadata": {
    "editable": true,
    "slideshow": {
     "slide_type": ""
    },
    "tags": []
   },
   "source": [
    "## Limitations of our toy example"
   ]
  },
  {
   "cell_type": "markdown",
   "id": "799fba7c-dbdf-4d29-9c58-72a7ff4a9684",
   "metadata": {
    "editable": true,
    "slideshow": {
     "slide_type": ""
    },
    "tags": []
   },
   "source": [
    "Obviously, this toy example is of little use for the real world and has many limitations."
   ]
  },
  {
   "cell_type": "markdown",
   "id": "4ac38ce8-0dd3-44cc-8b69-7471081c0d5a",
   "metadata": {
    "editable": true,
    "slideshow": {
     "slide_type": ""
    },
    "tags": []
   },
   "source": [
    "### Intensity"
   ]
  },
  {
   "cell_type": "markdown",
   "id": "2a1553d1-24b6-4499-b5da-ef3e824e6a84",
   "metadata": {
    "editable": true,
    "slideshow": {
     "slide_type": ""
    },
    "tags": []
   },
   "source": [
    "In this toy example, we define our intensity in a very basic way that is very far from being realistic."
   ]
  },
  {
   "cell_type": "markdown",
   "id": "d0b0c43c-7059-47c0-8f1b-f95cb471a97b",
   "metadata": {
    "editable": true,
    "slideshow": {
     "slide_type": ""
    },
    "tags": []
   },
   "source": [
    "We also defined it for a single event. In practice, we want to use a collection of event to define hazards in terms of both their intensity and their frequency. "
   ]
  },
  {
   "cell_type": "markdown",
   "id": "ed2ff026-b88d-4c6e-a2d3-51149fb4a63b",
   "metadata": {
    "editable": true,
    "slideshow": {
     "slide_type": ""
    },
    "tags": []
   },
   "source": [
    "In this module, you will learn how to:\n",
    "1. Leverage real-world data from the past to define the intensity and frequency of hazards\n",
    "2. Define stochastic models from historical data for an even more comprehensive approach\n",
    "\n",
    "For instance, the first example that we will look at in CLIMADA is that of Tropical Cyclones, where we have data of their trajectories (and more) over several decades."
   ]
  },
  {
   "cell_type": "markdown",
   "id": "4b8360e0-a85e-45e4-adfe-59cc59af0952",
   "metadata": {
    "editable": true,
    "slideshow": {
     "slide_type": ""
    },
    "tags": []
   },
   "source": [
    "This raises another point: usually, the raw intensity data is usually not in the right format (e.g. here, as an intensity over a spatial grid). "
   ]
  },
  {
   "cell_type": "markdown",
   "id": "9b9a9c2a-cb47-40cc-8403-b21f786a8909",
   "metadata": {
    "editable": true,
    "slideshow": {
     "slide_type": ""
    },
    "tags": []
   },
   "source": [
    "### Exposures"
   ]
  },
  {
   "cell_type": "markdown",
   "id": "763bba9a-834d-4886-96a7-975a4e7d1ae6",
   "metadata": {
    "editable": true,
    "slideshow": {
     "slide_type": ""
    },
    "tags": []
   },
   "source": [
    "In our example, we simulated exposure data in a very arbitrary fashion. In practice, we want to use real-world data. This is not always an easy task: how can we know the spatial repartition of building value over Mayotte for instance? "
   ]
  },
  {
   "cell_type": "markdown",
   "id": "657de815-ed12-4456-b0eb-bad1e3007f3e",
   "metadata": {
    "editable": true,
    "slideshow": {
     "slide_type": ""
    },
    "tags": []
   },
   "source": [
    "We will leverage two approaches:\n",
    "1. Litpop: this is a novel method that combines night light from satellite data with measures such as GDP\n",
    "2. Open Street Map"
   ]
  },
  {
   "cell_type": "markdown",
   "id": "b53bb2d2-2a18-455f-9a04-33a11826515b",
   "metadata": {
    "editable": true,
    "slideshow": {
     "slide_type": ""
    },
    "tags": []
   },
   "source": [
    "### Impact function"
   ]
  },
  {
   "cell_type": "markdown",
   "id": "e6977f56-b6f0-40e5-8ed1-4aaaf7c20d61",
   "metadata": {
    "editable": true,
    "slideshow": {
     "slide_type": ""
    },
    "tags": []
   },
   "source": [
    "Finally, we also defined our impact function via arbitrary means. In the first real-world example that we will study, we will use a pre-calibrated impact function. Further into this module, we will discuss how one can calibrate an impact function based on previous natural disasters."
   ]
  }
 ],
 "metadata": {
  "kernelspec": {
   "display_name": "Python 3 (ipykernel)",
   "language": "python",
   "name": "python3"
  },
  "language_info": {
   "codemirror_mode": {
    "name": "ipython",
    "version": 3
   },
   "file_extension": ".py",
   "mimetype": "text/x-python",
   "name": "python",
   "nbconvert_exporter": "python",
   "pygments_lexer": "ipython3",
   "version": "3.10.12"
  }
 },
 "nbformat": 4,
 "nbformat_minor": 5
}
