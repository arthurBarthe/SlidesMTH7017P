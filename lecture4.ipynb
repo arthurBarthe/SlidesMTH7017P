{
 "cells": [
  {
   "cell_type": "code",
   "execution_count": 1,
   "id": "d75ebe30-0099-4b70-8dc0-5467deb02938",
   "metadata": {
    "editable": true,
    "slideshow": {
     "slide_type": "skip"
    },
    "tags": []
   },
   "outputs": [
    {
     "name": "stderr",
     "output_type": "stream",
     "text": [
      "ERROR 1: PROJ: proj_create_from_database: Open of /home/arthur/miniforge3/envs/climada_env/share/proj failed\n"
     ]
    }
   ],
   "source": [
    "from utils import *\n",
    "\n",
    "set_cache_dir('pickles/slides4')"
   ]
  },
  {
   "cell_type": "markdown",
   "id": "890285a8-7bf8-4786-9361-2adc0676858d",
   "metadata": {
    "editable": true,
    "slideshow": {
     "slide_type": "slide"
    },
    "tags": []
   },
   "source": [
    "# Estimation of return periods and return levels\n",
    "\n",
    "<div class=\"alert alert-block alert-info\">\n",
    "<b>Our objectives:</b> \n",
    "<p>\n",
    "<ul>\n",
    "    <li>Express the return period in terms of the CDF of annual maxima</li>\n",
    "    <li>Apply the non-parametric formula for the return period</li>\n",
    "    <li>State the steps of the parametric approach corresponding to fitting a parametric distribution for annual maxima</li>\n",
    "    <li>Express the return period formula in the case of granular-event data</li>\n",
    "</ul>\n",
    "</p>\n",
    "</div>"
   ]
  },
  {
   "cell_type": "code",
   "execution_count": 2,
   "id": "f613d9ee-e2ac-4550-a278-d03c80b8ce3b",
   "metadata": {
    "editable": true,
    "slideshow": {
     "slide_type": "skip"
    },
    "tags": []
   },
   "outputs": [],
   "source": [
    "import numpy as np\n",
    "np.set_printoptions(precision=2)\n",
    "np.random.seed(1712)"
   ]
  },
  {
   "cell_type": "markdown",
   "id": "2e8f1787-d5c2-4efc-9251-e419737f5bd0",
   "metadata": {
    "editable": true,
    "slideshow": {
     "slide_type": "slide"
    },
    "tags": []
   },
   "source": [
    "## Annual Maxima Data \n",
    "\n",
    "We will investigate two types of data that are common in practice:\n",
    "1. Annual maxima data: this corresponds to the case where the available data is that of annual maxima of intensity\n",
    "2. Granular event data: this corresponds to the case where we have granular data for unique events in terms of their intensity and time of occurence\n",
    "\n",
    "We start by discussing the first case."
   ]
  },
  {
   "cell_type": "markdown",
   "id": "7febe927-b562-4fa0-a5db-b8514deb20ad",
   "metadata": {
    "editable": true,
    "slideshow": {
     "slide_type": "slide"
    },
    "tags": []
   },
   "source": [
    "## Objective\n",
    "\n",
    "Consider the situation where we have annual maxima data as per the following figure:"
   ]
  },
  {
   "cell_type": "code",
   "execution_count": 4,
   "id": "de603f63-e1fe-44c1-9777-c1892b39c809",
   "metadata": {
    "editable": true,
    "slideshow": {
     "slide_type": "fragment"
    },
    "tags": []
   },
   "outputs": [
    {
     "data": {
      "image/png": "[encoded data removed]",
      "text/plain": [
       "<Figure size 600x400 with 1 Axes>"
      ]
     },
     "metadata": {},
     "output_type": "display_data"
    }
   ],
   "source": [
    "from scipy.stats import genextreme\n",
    "import pandas as pd\n",
    "\n",
    "# Parameters for the GEV distribution\n",
    "c = 0  # shape parameter\n",
    "loc = 10  # location parameter\n",
    "scale = 1.1  # scale parameter\n",
    "\n",
    "# Create a GEV distribution object\n",
    "gev = genextreme(c, loc=loc, scale=scale)\n",
    "\n",
    "# Generate random samples from the GEV distribution\n",
    "samples = gev.rvs(size=150)\n",
    "dates = pd.date_range('1850-01-01', '2000-01-01', freq='Y')\n",
    "\n",
    "xs = np.linspace(7, 15, 100)\n",
    "# Calculate the probability density function (PDF)\n",
    "pdf_values = gev.pdf(xs)\n",
    "\n",
    "%matplotlib inline\n",
    "import matplotlib.pyplot as plt\n",
    "\n",
    "plt.figure(figsize=(6,4))\n",
    "plt.plot(dates, samples, '*')\n",
    "plt.xlabel('year')\n",
    "plt.ylabel('annual maxima')\n",
    "plt.show()"
   ]
  },
  {
   "cell_type": "markdown",
   "id": "30875be1-4537-4820-b08f-ff9edd739217",
   "metadata": {
    "editable": true,
    "slideshow": {
     "slide_type": "fragment"
    },
    "tags": []
   },
   "source": [
    "Our question: what is the return period for an event of intensity 12? 13? 14?"
   ]
  },
  {
   "cell_type": "markdown",
   "id": "011e5b23-7b2f-4c13-8e40-b6cde3f5da7d",
   "metadata": {
    "editable": true,
    "slideshow": {
     "slide_type": "slide"
    },
    "tags": []
   },
   "source": [
    "### Return period\n",
    "\n",
    "<div class=\"alert alert-block alert-success\">\n",
    "<b>Definition:</b> For a given intensity $I$, the return period is the period T expressed in years such that the probability of observing an event with intensity greater than $I$ in a given year is $\\frac{1}{T}$.\n",
    "\n",
    "<p>An event with a Return Period $T$ is called a T-year event. For instance, we will say \"a 100-year flood\".</p>\n",
    "\n",
    "<p>Another interpretation of the return period is that it is the expected number of years until an event\n",
    "of a given intensity.</p>\n",
    "</div>"
   ]
  },
  {
   "cell_type": "markdown",
   "id": "59cd4fc7-dd30-4f96-b027-c7621a019968",
   "metadata": {
    "editable": true,
    "slideshow": {
     "slide_type": "fragment"
    },
    "tags": []
   },
   "source": [
    "Given this definition, if we define the annual maximum intensity as the random variable $X$, the\n",
    "return period $T$ for an intensity $x$ is such that,\n",
    "\n",
    "\\begin{equation}\n",
    "    \\mathbb{P}(X\\geq x) = \\frac{1}{T}.\n",
    "\\end{equation}"
   ]
  },
  {
   "cell_type": "markdown",
   "id": "1659fb82-a8e5-406f-8381-718c0cff081b",
   "metadata": {
    "editable": true,
    "slideshow": {
     "slide_type": "fragment"
    },
    "tags": []
   },
   "source": [
    "As such, it is obvious that the return period should be a *non-decreasing* function of the intensity."
   ]
  },
  {
   "cell_type": "markdown",
   "id": "69b86127-7c1c-4d6b-bb5e-68ac40a25519",
   "metadata": {
    "editable": true,
    "slideshow": {
     "slide_type": "subslide"
    },
    "tags": []
   },
   "source": [
    "The previous formula can be written in terms of the Cumulative Distribution Function of the random variable $X$ (annual maximum),\n",
    "$\\frac{1}{T} = 1 - F_X(x)$, which leads to the following general formula:\n",
    "\n",
    "<div class=\"alert alert-block alert-info\">\n",
    "<b>Proposition:</b> The return period $T(x)$ corresponding to an intensity level $x$ can be expressed in terms of the CDF of the annual maximum random variable according to,\n",
    "    \\begin{equation}\n",
    "        T(x) = \\frac{1}{1 - F_X(x)}.\n",
    "    \\end{equation}\n",
    "</div>"
   ]
  },
  {
   "cell_type": "markdown",
   "id": "aa23af79-a6d7-4d92-98d4-0712409d1f3d",
   "metadata": {
    "editable": true,
    "slideshow": {
     "slide_type": "fragment"
    },
    "tags": []
   },
   "source": [
    "Exercise: invert this formula to express the return level corresponding to a given return period, in terms of the Inverse Cumulative Distribution Function of $X$."
   ]
  },
  {
   "cell_type": "markdown",
   "id": "81e5b871-b496-4b3c-8daa-fa36562a0ed5",
   "metadata": {
    "editable": true,
    "slideshow": {
     "slide_type": "subslide"
    },
    "tags": []
   },
   "source": [
    "To estimate the return period from annual maxima data, we can use this formula by replacing $F_X(x)$ by an estimate of the cumulative distribution function of $X$.\n",
    "We can distinguish two approaches:\n",
    "1. Non-parametric: we will use a non-parametric estimator such as the empirical distribution function, or a Kernel Density Estimate.\n",
    "2. Parametric: we will use a parametric estimator by specifying a parametric distribution for the annual maxima."
   ]
  },
  {
   "cell_type": "markdown",
   "id": "768706f6-cecb-4965-a5f3-5d0ef3dd62b5",
   "metadata": {
    "editable": true,
    "slideshow": {
     "slide_type": "slide"
    },
    "tags": []
   },
   "source": [
    "## Non-parametric approach - case 1: Empirical Distribution Function\n",
    "\n",
    "We start with a non-parametric approach that relies on the *Empirical Distribution Function*, defined as,\n",
    "\\begin{equation}\n",
    "    \\widehat{F}_X(x) = \\frac{1}{n + 1}\\sum_{i=1}^{n}\\mathbb{1}_{\\geq x_i}(x),\n",
    "\\end{equation}\n",
    "where $n$ is the number of years and the $x_i$'s are the annual maxima from our dataset, and the function $\\mathbb{1}_{\\geq x_i}$ is defined by,\n",
    "\\begin{equation}\n",
    "    \\mathbb{1}_{\\geq x_i}(x)\n",
    "    =\n",
    "    \\begin{cases}\n",
    "        0 &\\text{if } x< x_i,\\\\\n",
    "        1 &\\text{if } x\\geq x_i.\n",
    "    \\end{cases}\n",
    "\\end{equation}\n",
    "\n",
    "Note that usually, the normalization of the ECDF uses the factor $\\frac{1}{n}$, however for extreme-values it is common to instead use $\\frac{1}{n + 1}$ as per the formula above."
   ]
  },
  {
   "cell_type": "markdown",
   "id": "a0e997b2-d07b-401b-9bda-169efc584f93",
   "metadata": {
    "editable": true,
    "slideshow": {
     "slide_type": "skip"
    },
    "tags": []
   },
   "source": [
    "ADD INTERACTIVE FIGURE FOR ECDF."
   ]
  },
  {
   "cell_type": "markdown",
   "id": "c132bf2f-6a1c-43e3-90e6-832958a427de",
   "metadata": {
    "editable": true,
    "slideshow": {
     "slide_type": "subslide"
    },
    "tags": []
   },
   "source": [
    "If we replace $F_X$ by this estimate, we obtain the following simple formula:\n",
    "\n",
    "\\begin{equation}\n",
    "    T(x_{(i)}) = \\frac{n+1}{i},\n",
    "\\end{equation}\n",
    "where the $x_{(i)}$'s (notice the bracket in the notation) are obtained by sorting the values of the $x_i$'s (without bracket in the notation, the original data) in decreasing order. For instance,\n",
    "if $x_1=5, x_2=3, x_4=7, x_5=6$, what are the $x_{(i)}'s$? What is the return period for intensity 5?"
   ]
  },
  {
   "cell_type": "markdown",
   "id": "36bde40a-bb98-4edb-9c24-6bb8462b2427",
   "metadata": {
    "editable": true,
    "slideshow": {
     "slide_type": "skip"
    },
    "tags": []
   },
   "source": [
    "## Non-parametric approach - case 2: Kernel Density Estimation"
   ]
  },
  {
   "cell_type": "markdown",
   "id": "331070f8-4f04-41d6-a1a3-bf2a4b611961",
   "metadata": {
    "editable": true,
    "slideshow": {
     "slide_type": "slide"
    },
    "tags": []
   },
   "source": [
    "## Parametric approach\n",
    "\n",
    "We now consider the parametric approach. The general idea is to fit a parametric distribution to the data of annual maxima and to use the\n",
    "ECDF of that fitted distribution in the general formula for the return period from annual maxima."
   ]
  },
  {
   "cell_type": "markdown",
   "id": "f08ce6ee-c1ce-4418-9bdb-0edc6774e5d7",
   "metadata": {
    "editable": true,
    "slideshow": {
     "slide_type": "fragment"
    },
    "tags": []
   },
   "source": [
    "In particular, a standard distribution for annual maxima is the *General Extreme Value* distribution, whose Cumulative Distribution Function is\n",
    "given by,\n",
    "\n",
    "\\begin{equation}\n",
    "    F_X(x; \\mu, \\sigma, \\xi) =\n",
    "    \\begin{cases}\n",
    "        \\exp(-\\exp(-s)) & \\text{if $\\xi=0$ (Gumbell distribution)},\\\\\n",
    "        \\exp(-(1 + \\xi s)^{-1/\\xi} & \\text{if $\\xi\\neq 0$ (Fréchet or Weibull distribution)}.\n",
    "    \\end{cases}\n",
    "\\end{equation}"
   ]
  },
  {
   "cell_type": "markdown",
   "id": "99a23e0d-ccde-4efe-a801-b151212d88be",
   "metadata": {
    "editable": true,
    "slideshow": {
     "slide_type": "fragment"
    },
    "tags": []
   },
   "source": [
    "The idea is therefore to obtain estimates $\\hat{\\mu}, \\hat{\\sigma}$ and $\\hat{\\xi}$ of the parameters $\\mu, \\sigma, \\xi$, respectively, and to then\n",
    "plug-in the corresponding CDF $F_X(x;\\hat{\\mu}, \\hat{\\sigma},\\hat{\\xi})$ into our general formula:\n",
    "\n",
    "\\begin{equation}\n",
    "    T(x) = \\frac{1}{1 - F_X(x;\\hat{\\mu}, \\hat{\\sigma},\\hat{\\xi})}.\n",
    "\\end{equation}"
   ]
  },
  {
   "cell_type": "code",
   "execution_count": 5,
   "id": "eee3e2b1-38ee-49da-8697-9c6321a05889",
   "metadata": {
    "editable": true,
    "slideshow": {
     "slide_type": ""
    },
    "tags": []
   },
   "outputs": [],
   "source": [
    "import numpy as np\n",
    "\n",
    "def neg_log_likelihood_gev(samples, theta):\n",
    "    loc, scale = theta\n",
    "    c = 0\n",
    "    gev = genextreme(0., loc=loc, scale=scale)\n",
    "    out = np.mean(gev.logpdf(samples))\n",
    "    if not np.isfinite(out):\n",
    "        return np.inf\n",
    "    return -out"
   ]
  },
  {
   "cell_type": "code",
   "execution_count": 6,
   "id": "309f0409-b98e-4f32-bb48-a52f583af570",
   "metadata": {
    "editable": true,
    "slideshow": {
     "slide_type": "subslide"
    },
    "tags": []
   },
   "outputs": [
    {
     "data": {
      "text/plain": [
       " message: Optimization terminated successfully.\n",
       " success: True\n",
       "  status: 0\n",
       "     fun: 1.748359285180638\n",
       "       x: [ 1.013e+01  1.204e+00]\n",
       "     nit: 15\n",
       "     jac: [ 4.649e-06  3.234e-06]\n",
       "    nfev: 63\n",
       "    njev: 21"
      ]
     },
     "execution_count": 6,
     "metadata": {},
     "output_type": "execute_result"
    }
   ],
   "source": [
    "from scipy.optimize import minimize\n",
    "\n",
    "x0=[8., 0.8]\n",
    "opt = minimize(lambda x: neg_log_likelihood_gev(samples, x), \n",
    "         x0=x0, \n",
    "         #bounds=[(5, 15), (0, 2)],\n",
    "         #callback=lambda *args, **kwargs: print(*args, neg_log_likelihood_gev(samples, args[0])),\n",
    "         method='CG',\n",
    "        )\n",
    "opt"
   ]
  },
  {
   "cell_type": "code",
   "execution_count": 7,
   "id": "970aa262-a732-4d48-93d4-35ef7b079e81",
   "metadata": {
    "editable": true,
    "slideshow": {
     "slide_type": ""
    },
    "tags": []
   },
   "outputs": [],
   "source": [
    "fitted = opt.x"
   ]
  },
  {
   "cell_type": "code",
   "execution_count": 8,
   "id": "c48c4ff7-5b4f-41bd-a9f9-726e62f73fee",
   "metadata": {
    "editable": true,
    "slideshow": {
     "slide_type": ""
    },
    "tags": []
   },
   "outputs": [],
   "source": [
    "def return_period(intensity, gev_params):\n",
    "    loc, scale = gev_params\n",
    "    gev = genextreme(0, loc=loc, scale=scale)\n",
    "    return 1 / (1 - gev.cdf(intensity))"
   ]
  },
  {
   "cell_type": "code",
   "execution_count": 9,
   "id": "0955ca11-f4bb-4c33-af71-a22cfcef7283",
   "metadata": {
    "editable": true,
    "slideshow": {
     "slide_type": ""
    },
    "tags": []
   },
   "outputs": [
    {
     "data": {
      "image/png": "[encoded data removed]",
      "text/plain": [
       "<Figure size 640x480 with 1 Axes>"
      ]
     },
     "metadata": {},
     "output_type": "display_data"
    }
   ],
   "source": [
    "intensities = np.linspace(11, 15, 100)\n",
    "rps = return_period(intensities, fitted)\n",
    "\n",
    "plt.figure()\n",
    "plt.plot(intensities, rps)\n",
    "plt.xlabel('intensity')\n",
    "plt.ylabel('return period')\n",
    "\n",
    "plt.savefig('rpplot1.jpg')"
   ]
  },
  {
   "cell_type": "markdown",
   "id": "1962e183-e0f0-48c2-9894-459f766da1f4",
   "metadata": {
    "editable": true,
    "slideshow": {
     "slide_type": "slide"
    },
    "tags": []
   },
   "source": [
    "## Granular-event data\n",
    "\n",
    "Another approach might consist in using granular-event data, that is to say data where for every unique event we have a time of occurence and \n",
    "an intensity. For instance, in the case of the tropical cyclone data, we have access to granular data."
   ]
  },
  {
   "cell_type": "code",
   "execution_count": 11,
   "id": "48c2f317-d6aa-4f03-a755-bb534f7a6745",
   "metadata": {
    "editable": true,
    "slideshow": {
     "slide_type": ""
    },
    "tags": []
   },
   "outputs": [
    {
     "data": {
      "text/plain": [
       "Text(0, 0.5, 'intensity')"
      ]
     },
     "execution_count": 11,
     "metadata": {},
     "output_type": "execute_result"
    },
    {
     "data": {
      "image/png": "[encoded data removed]",
      "text/plain": [
       "<Figure size 640x480 with 1 Axes>"
      ]
     },
     "metadata": {},
     "output_type": "display_data"
    }
   ],
   "source": [
    "from scipy.stats import expon\n",
    "from datetime import datetime, timedelta\n",
    "\n",
    "dist_intervals = expon(scale=0.7)\n",
    "dist_intensities = expon(loc=7, scale=2)\n",
    "\n",
    "n_points = 200\n",
    "time_intervals = dist_intervals.rvs(n_points)\n",
    "times = np.cumsum(time_intervals)\n",
    "intensities = dist_intensities.rvs(n_points)\n",
    "\n",
    "date_start = datetime(1850, 1, 1)\n",
    "\n",
    "plt.figure()\n",
    "plt.bar(times, intensities)\n",
    "plt.xlabel('year')\n",
    "plt.ylabel('intensity')"
   ]
  },
  {
   "cell_type": "markdown",
   "id": "404a4e98-d364-451c-8030-a8986fd9e89b",
   "metadata": {
    "editable": true,
    "slideshow": {
     "slide_type": "subslide"
    },
    "tags": []
   },
   "source": [
    "Here the data consists of tuples $(T_i, X_i)$ where $T_i$ is the time of occurence of the $i$'th event and $X_i$ is the magnitude of the event."
   ]
  },
  {
   "cell_type": "markdown",
   "id": "e7296751-8102-4495-8bbd-d90485b6219e",
   "metadata": {
    "editable": true,
    "slideshow": {
     "slide_type": "fragment"
    },
    "tags": []
   },
   "source": [
    "We can model this via two independent distribution:\n",
    "1. A distribution for the number of events per unit of time (e.g. 1 year)\n",
    "2. A distribution for the magnitudes of the events\n",
    "\n",
    "If we denote the expected number of events per year (i.e. frequency) by $\\lambda$, then the return period can be expressed as,\n",
    "\n",
    "\\begin{equation}\n",
    "    T(x) = \\frac{1}{\\lambda \\left(1 - F_X(x)\\right)}.\n",
    "\\end{equation}"
   ]
  },
  {
   "cell_type": "markdown",
   "id": "dceaf9a6-057a-4fa3-ac9b-ac38d7ca2b15",
   "metadata": {
    "editable": true,
    "slideshow": {
     "slide_type": "fragment"
    },
    "tags": []
   },
   "source": [
    "<div class=\"alert alert-block alert-danger\">\n",
    "<b>Note that this formula is similar yet *very different* from the one for annual maxima data:</b> \n",
    "<ul>\n",
    "    <li>We need to account for the frequency of the events, $\\lambda$,</li>\n",
    "    <li>$F_X$ is the Cumulative Distribution Function of the magnitude of individual events, whereas in the previous formula it was the CDF of the annual maxima.</li>\n",
    "</div>"
   ]
  },
  {
   "cell_type": "markdown",
   "id": "67969f99-1578-414b-a3cb-aafe0ae4dc84",
   "metadata": {
    "editable": true,
    "slideshow": {
     "slide_type": "fragment"
    },
    "tags": []
   },
   "source": [
    "As for annual maxima data, we can use two types of approaches for estimation: non-parametric and parametric."
   ]
  }
 ],
 "metadata": {
  "kernelspec": {
   "display_name": "climada_env",
   "language": "python",
   "name": "climada_env"
  },
  "language_info": {
   "codemirror_mode": {
    "name": "ipython",
    "version": 3
   },
   "file_extension": ".py",
   "mimetype": "text/x-python",
   "name": "python",
   "nbconvert_exporter": "python",
   "pygments_lexer": "ipython3",
   "version": "3.11.6"
  }
 },
 "nbformat": 4,
 "nbformat_minor": 5
}
