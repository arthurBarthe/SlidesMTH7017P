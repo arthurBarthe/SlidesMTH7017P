{
 "cells": [
  {
   "cell_type": "code",
   "execution_count": 2,
   "id": "b16cd390-96d9-4ddb-a27b-aaaafe156438",
   "metadata": {
    "editable": true,
    "slideshow": {
     "slide_type": "skip"
    },
    "tags": []
   },
   "outputs": [],
   "source": [
    "import warnings\n",
    "warnings.filterwarnings('ignore')\n",
    "\n",
    "ROOT_DATASETS = '/media/arthur/DATA/Data sets/MTH7017P/'\n",
    "\n",
    "from utils import *\n",
    "\n",
    "set_cache_dir('pickles/slides9')\n",
    "\n",
    "RUN_DOWNLOADS = False"
   ]
  },
  {
   "cell_type": "markdown",
   "id": "95d2fd63-953e-4bde-9b5d-13a316357861",
   "metadata": {
    "editable": true,
    "slideshow": {
     "slide_type": "slide"
    },
    "tags": []
   },
   "source": [
    "# Creating Synthetic Natural Disaster Data\n",
    "\n",
    "This week we investigate some approaches for generating synthetic natural disaster data.\n",
    "\n",
    "<div class=\"alert alert-block alert-info\">\n",
    "<b>Our objectives:</b> \n",
    "<p>\n",
    "<ul>\n",
    "<li>Understand data-based versus physics-based approaches for synthesis</li>\n",
    "<li>Carry out basic time series modelling</li>\n",
    "<li>Write a simple data-based synthesizer</li>\n",
    "</ul>\n",
    "</p>\n",
    "</div>"
   ]
  },
  {
   "cell_type": "markdown",
   "id": "303ddbac-f0cc-4e21-aca8-2271a89c46c5",
   "metadata": {
    "editable": true,
    "slideshow": {
     "slide_type": "slide"
    },
    "tags": []
   },
   "source": [
    "## Data-based versus Physics-Based approaches\n",
    "\n",
    "We previously saw that we can incorporate Monte-Carlo / synthetic natural disaster data into our Climate Risk Analysis. However we did not dive into how these synthetic data are generated. We can categorize approaches into two mechanisms:\n",
    "\n",
    "1. Data-based approaches\n",
    "2. Physics-based approaches\n",
    "\n",
    "Data-based approaches solely rely on data, whether it be reanalysis data (past and present climate) or climate projections from climate models. \n",
    "\n",
    "Physics-based approaches leverage physics models."
   ]
  },
  {
   "cell_type": "markdown",
   "id": "aba08090-9ece-4283-8969-191c48396ac1",
   "metadata": {
    "editable": true,
    "slideshow": {
     "slide_type": "subslide"
    },
    "tags": []
   },
   "source": [
    "As a very basic example, consider the non-weather scenario of someone dropping a ball from a high tower. Due to wind, there will be uncertainty about the location of the impact of the ball with the ground. We assume we have thrown the ball many times and collected measurements about impact locations and the wind.\n",
    "\n",
    "1. A data-based approach would consist in directly modelling the distribution of the impact. We could then sample synthetic locations from that distribution.\n",
    "2. A physics-based approach would consist, for instance, into writing the equations of motions and integrating them to simulate the ball's trajectory."
   ]
  },
  {
   "cell_type": "markdown",
   "id": "3cc0913a-1d9b-4098-8f81-bfc4458d48eb",
   "metadata": {
    "editable": true,
    "slideshow": {
     "slide_type": "subslide"
    },
    "tags": []
   },
   "source": [
    "| Method | Pros | Cons |\n",
    "|:-------------|:-------------|:--------------|\n",
    "| Data-based   | Low bias      | Difficult to account for Climate Change         |\n",
    "| Physics-based| Can incorporate Climate change        | Physics model might introduce bias   |\n",
    "\n"
   ]
  },
  {
   "attachments": {},
   "cell_type": "markdown",
   "id": "fca41577-cdaf-457b-b9f5-04e08e31ccd2",
   "metadata": {
    "editable": true,
    "slideshow": {
     "slide_type": "slide"
    },
    "tags": []
   },
   "source": [
    "## Example: a data-based approach for the synthesis of Tropical Cyclones\n",
    "\n",
    "We discuss the method proposed in the following manuscript:\n",
    "\n",
    "[Yonekura E, Hall TM (2011) A statistical model of tropical cyclone tracks in the Western North Pacific with\n",
    "ENSO-dependent cyclogenesis. J Appl Meteorol Clim 50:1725–1739](https://journals.ametsoc.org/view/journals/apme/50/8/2011jamc2617.1.pdf). \n",
    "\n",
    "The goal of this method is to synthesize realistic Tropical Cyclones falling on land in the Western North Pacific.\n",
    "\n",
    "![tcs](tcs_paper.png)"
   ]
  },
  {
   "cell_type": "markdown",
   "id": "46690714-e1cc-4f90-bd29-7a511bac4f4e",
   "metadata": {
    "editable": true,
    "slideshow": {
     "slide_type": "subslide"
    },
    "tags": []
   },
   "source": [
    "### Data\n",
    "\n",
    "The method leverages historic data from IBTrACS (The International Best Track Archive for Climate Stewardshi, the same resource we accessed in CLIMADA). In particular, the method aims at simulating TC trajectories from their genesis in the oceans to their lysis (death). This is in contrast to other data-based approaches that only model intensities of TCs that impact land."
   ]
  },
  {
   "cell_type": "markdown",
   "id": "d2aa8d51-d5ab-403f-a456-3046786b49c0",
   "metadata": {
    "editable": true,
    "slideshow": {
     "slide_type": "fragment"
    },
    "tags": []
   },
   "source": [
    "### Methods\n",
    "\n",
    "The method relies on 3 components:\n",
    "\n",
    "1. Genesis: number of cyclones forming annually, and where they form\n",
    "2. Propagation: trajectory of the cyclone\n",
    "3. Lysis: death of the cyclone\n",
    "\n",
    "This is a rather common framework. For instance, we could take a similar approach to synthesize wildfire events (see e.g. [Ioannis Zacharakis, Vassilios A. Tsihrintzis,\n",
    "Integrated wildfire danger models and factors: A review,\n",
    "Science of The Total Environment,\n",
    "Volume 899,\n",
    "2023](https://www.sciencedirect.com/science/article/pii/S0048969723043279?via%3Dihub))."
   ]
  },
  {
   "cell_type": "markdown",
   "id": "80353c66-0cbc-404e-98a2-cb63799f8294",
   "metadata": {
    "editable": true,
    "slideshow": {
     "slide_type": "fragment"
    },
    "tags": []
   },
   "source": [
    "We now discuss those three components in more details."
   ]
  },
  {
   "cell_type": "markdown",
   "id": "406fce5f-7d83-4902-a62c-431de7bc9452",
   "metadata": {
    "editable": true,
    "slideshow": {
     "slide_type": "slide"
    },
    "tags": []
   },
   "source": [
    "### Genesis component\n",
    "\n",
    "The genesis component is concerned with:\n",
    "1. Modelling the annual number of TCs forming in the Western Noth Pacific (WNP)\n",
    "2. Modelling the locations where those TCs form"
   ]
  },
  {
   "cell_type": "markdown",
   "id": "c90756ab-e218-4efc-8ccf-7291103c75e3",
   "metadata": {
    "editable": true,
    "slideshow": {
     "slide_type": "subslide"
    },
    "tags": []
   },
   "source": [
    "To model the annual number of TCs that form in the WNP, the authors use a Poisson distribution (standard for count data). This can be achieved by collecting from the data the annual number of TCs that occur, say $x_1, \\ldots, x_n$ if we have a record of $n$ years, and estimating the parameter $\\mu$ of the Poisson distribution via maximum likelihood estimation. This model can be written as,\n",
    "\\begin{equation}\n",
    "    X\\sim Poisson(\\mu),\n",
    "\\end{equation}\n",
    "the random variable $X$ denoting the number of annual TCs."
   ]
  },
  {
   "cell_type": "markdown",
   "id": "c8dfa4d8-35cb-4511-8196-ed46f38fe680",
   "metadata": {
    "editable": true,
    "slideshow": {
     "slide_type": "subslide"
    },
    "tags": []
   },
   "source": [
    "In practice, the approach they follow is slightly more subtle: they incorporate some dependence on a climatological factor, the ENSO index for the year via regression. This can be written as,\n",
    "\n",
    "\\begin{equation}\n",
    "    X_i \\sim Poisson(\\mu_i), \\quad i=1,\\ldots, n,\n",
    "\\end{equation}\n",
    "where $i$ indexes the year, and,\n",
    "\\begin{equation}\n",
    "    \\mu_i = \\exp(\\beta_0 + \\beta_1 ENSO_i).\n",
    "\\end{equation}\n",
    "\n",
    "$ENSO_i$ is the ENSO index for the year with index $i$.\n",
    "This time, the parameters of this model are $\\beta_0, \\beta_1$. Again, they can be estimated via maximum-likelihood."
   ]
  },
  {
   "cell_type": "markdown",
   "id": "06ed97c6-4ebb-4471-a702-89aa6afc2d51",
   "metadata": {
    "editable": true,
    "slideshow": {
     "slide_type": "subslide"
    },
    "tags": []
   },
   "source": [
    "To model the locations of formation of the TCS, we estimate the probability density function of the locations. For instance, we can achieve this using a Kernel Density Estimator.\n",
    "\n",
    "<div class=\"alert alert-block alert-info\">\n",
    "<b>Definition: Kernel Density Estimator</b> \n",
    "<p>\n",
    "    Let $X_1, \\ldots, X_n$ be an i.i.d. sample from a random variable $X$ with unknown probability density function $f$. A Kernel Density Estimator of $f$ is defined by:\n",
    "    \\begin{equation}\n",
    "        \\widehat{f}_n(x) = \\frac{1}{n}\\sum_{i=1}^{n}{K(x - x_i; \\sigma)},\n",
    "    \\end{equation}\n",
    "    where $K(x; \\sigma)$ is a Kernel, i.e. it satisfies,\n",
    "    <ul>\n",
    "        <li>$\\int K(x)dx = 1$ (so that $\\int \\widehat{f}_n(x) dx = 1$)</li>\n",
    "        <li>$\\int xK(x)dx = 0$</li>\n",
    "        <li>$\\int x^2 K(x)dx = \\sigma^2$</li>\n",
    "    </ul>\n",
    "</p>\n",
    "</div>\n",
    "\n",
    "Here the kernel parameter $\\sigma$ will determine the *smoothness* of the estimated density."
   ]
  },
  {
   "cell_type": "code",
   "execution_count": null,
   "id": "73bfe79e-d2c9-4031-9351-1ad5ef278228",
   "metadata": {
    "editable": true,
    "slideshow": {
     "slide_type": ""
    },
    "tags": []
   },
   "outputs": [],
   "source": []
  },
  {
   "cell_type": "markdown",
   "id": "fa2a3b81-6f84-48f5-837b-6407db8fb802",
   "metadata": {},
   "source": [
    "In the paper, they follow a slightly more subtle approach where they again use a regression in terms of the ENSO index. "
   ]
  },
  {
   "cell_type": "markdown",
   "id": "521facff-41af-4c3b-86c9-389600dbfcf3",
   "metadata": {
    "editable": true,
    "slideshow": {
     "slide_type": "subslide"
    },
    "tags": []
   },
   "source": [
    "![image](betas1.png)"
   ]
  },
  {
   "cell_type": "markdown",
   "id": "d6604095-0f33-447d-aaac-39ba0bac43cc",
   "metadata": {
    "editable": true,
    "slideshow": {
     "slide_type": "slide"
    },
    "tags": []
   },
   "source": [
    "### Propagation component\n",
    "\n",
    "The propagation component of the model aims at representing the trajectory of a Tropical Cyclone.\n",
    "We need a few mathematical tools from time series modelling (Slides in section Week 9)."
   ]
  },
  {
   "cell_type": "markdown",
   "id": "cb923769-54f1-4e8b-9cd7-9290933338b2",
   "metadata": {
    "editable": true,
    "slideshow": {
     "slide_type": "subslide"
    },
    "tags": []
   },
   "source": [
    "For simplicity, here we write the propagation model in 1d. However, the full model is 2d, corresponding to both latitude and longitude.\n",
    "\n",
    "Let $Z_t$ be the location at time $t$. The model can be written as,\n",
    "\n",
    "\\begin{equation}\n",
    "    Z_{t + 1} = Z_t + \\epsilon_t,\n",
    "\\end{equation}\n",
    "\n",
    "where $\\epsilon_t = \\mu(Z_t) + \\sigma(Z_t) \\cdot \\widetilde{\\epsilon}_t$ and $\\widetilde{\\epsilon}_t$ is an AR(1) process. \n",
    "\n",
    "1. $\\mu(\\cdot)$ is a spatially-dependent mean increment.\n",
    "2. $\\sigma(\\cdot)$ is a spatially-dependent standard deviation of the increments."
   ]
  },
  {
   "cell_type": "markdown",
   "id": "65f4f0f4-c684-436c-b3b5-74e6edfc0f64",
   "metadata": {
    "editable": true,
    "slideshow": {
     "slide_type": "subslide"
    },
    "tags": []
   },
   "source": [
    "Questions:\n",
    "1. What happens if $\\sigma(\\cdot)$ is always zero in our model?\n",
    "2. What happens if $\\mu(\\cdot)$ is always zero in our model?\n",
    "3. What happens if both functions are always zero in our model?\n",
    "4. What happens if $\\mu(\\cdot)$ is always non-negative?"
   ]
  },
  {
   "cell_type": "code",
   "execution_count": 20,
   "id": "796c9e14-8e2a-4572-bdf8-ee850f37f0ea",
   "metadata": {
    "editable": true,
    "slideshow": {
     "slide_type": ""
    },
    "tags": []
   },
   "outputs": [],
   "source": [
    "import matplotlib.pyplot as plt\n",
    "from ar1 import AR1\n",
    "import numpy as np\n",
    "\n",
    "ar = AR1(0.8, sigma=0.2)\n",
    "epsilons_tilde = ar.sample(1000)\n",
    "\n",
    "Zs = np.cumsum(delta + 2 + epsilons_tilde)"
   ]
  },
  {
   "cell_type": "code",
   "execution_count": 21,
   "id": "170c673f-78db-4193-84cc-71820aeabbae",
   "metadata": {
    "editable": true,
    "slideshow": {
     "slide_type": ""
    },
    "tags": []
   },
   "outputs": [
    {
     "data": {
      "text/plain": [
       "[<matplotlib.lines.Line2D at 0x7fc6a4ce4cd0>]"
      ]
     },
     "execution_count": 21,
     "metadata": {},
     "output_type": "execute_result"
    },
    {
     "data": {
      "image/png": "[encoded data removed]",
      "text/plain": [
       "<Figure size 640x480 with 1 Axes>"
      ]
     },
     "metadata": {},
     "output_type": "display_data"
    }
   ],
   "source": [
    "plt.figure()\n",
    "plt.plot(Zs)"
   ]
  },
  {
   "cell_type": "markdown",
   "id": "672b1f4b-ed3b-4fab-9d02-5daeee8d4b5d",
   "metadata": {
    "editable": true,
    "slideshow": {
     "slide_type": "slide"
    },
    "tags": []
   },
   "source": [
    "### Lysis component\n",
    "\n",
    "The model for lysis is a simple Bernoulli random variable whose parameter is estimated by taking the ratio of end points by the total number of track points. "
   ]
  },
  {
   "cell_type": "markdown",
   "id": "f4c6a264-e3b1-45f5-bd76-f1c15b783dff",
   "metadata": {
    "editable": true,
    "slideshow": {
     "slide_type": "slide"
    },
    "tags": []
   },
   "source": [
    "### Intensity\n",
    "\n",
    "The discussed manuscript does not directly address the modelling of wind intensity. However, a standard data-based approach might rely on an autoregressive process."
   ]
  },
  {
   "cell_type": "markdown",
   "id": "fe1fd393-3cfa-41a2-aa17-ded0a31f5074",
   "metadata": {
    "editable": true,
    "slideshow": {
     "slide_type": "slide"
    },
    "tags": []
   },
   "source": [
    "## Example: a Physics-based model for the synthesis of Tropical Cyclones\n",
    "\n",
    "We now discuss a Physics-based model, presented in the following manuscript:\n",
    "\n",
    "[Emanuel, K., R. Sundararajan, and J. Williams, 2008: Hurricanes and Global Warming: Results from Downscaling IPCC AR4 Simulations. Bull. Amer. Meteor. Soc., 89, 347–368](https://doi.org/10.1175/BAMS-89-3-347)\n",
    "\n",
    "This event generator is entirely free from historical storm data. Instead, it randomly seeds *mini-cyclones* and uses reanalysis data / climate model data that are fed into a simple physics model of Tropical Cyclone trajectory and intensity. \n",
    "\n",
    "> Because such a method is based purely on physics applied to large-scale environmental conditions, it can be driven by climate model output as well as by global reanalysis data, allozing for quantification of the effect of climate variability and trends on tropical cyclone genesis, tracks, and intensity.\n",
    ">\n",
    "> — Emmanuel, K., 2017. *A fast intensity simulator for tropical cyclone risk analysis. Nat Hazards, 88:779–796*"
   ]
  },
  {
   "cell_type": "code",
   "execution_count": null,
   "id": "9d96f86c-c7fb-444c-bc8e-5a2330201b34",
   "metadata": {
    "editable": true,
    "slideshow": {
     "slide_type": ""
    },
    "tags": []
   },
   "outputs": [],
   "source": []
  }
 ],
 "metadata": {
  "kernelspec": {
   "display_name": "climada_env",
   "language": "python",
   "name": "climada_env"
  },
  "language_info": {
   "codemirror_mode": {
    "name": "ipython",
    "version": 3
   },
   "file_extension": ".py",
   "mimetype": "text/x-python",
   "name": "python",
   "nbconvert_exporter": "python",
   "pygments_lexer": "ipython3",
   "version": "3.11.6"
  },
  "voila": {
   "enable_nbextensions": "true",
   "reveal": {
    "height": "100%",
    "margin": 0,
    "maxScale": 1,
    "minScale": 1,
    "width": "100%"
   },
   "template": "reveal"
  }
 },
 "nbformat": 4,
 "nbformat_minor": 5
}
